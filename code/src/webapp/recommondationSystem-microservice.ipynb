{
 "cells": [
  {
   "cell_type": "code",
   "execution_count": null,
   "id": "96612ce3-0164-4a3d-a8cd-881d3afb27de",
   "metadata": {},
   "outputs": [],
   "source": [
    "#pip install Flask\n",
    "#!pip install ipynb"
   ]
  },
  {
   "cell_type": "code",
   "execution_count": null,
   "id": "ca0f5a96-9466-4496-8e3c-872a519f7d0b",
   "metadata": {},
   "outputs": [
    {
     "name": "stdout",
     "output_type": "stream",
     "text": [
      " * Serving Flask app '__main__'\n",
      " * Debug mode: off\n"
     ]
    },
    {
     "name": "stderr",
     "output_type": "stream",
     "text": [
      "WARNING: This is a development server. Do not use it in a production deployment. Use a production WSGI server instead.\n",
      " * Running on http://127.0.0.1:5000\n",
      "Press CTRL+C to quit\n",
      "127.0.0.1 - - [26/Mar/2025 15:47:29] \"GET / HTTP/1.1\" 200 -\n",
      "127.0.0.1 - - [26/Mar/2025 15:47:34] \"GET /chatbot?userMessage=hi HTTP/1.1\" 200 -\n"
     ]
    },
    {
     "name": "stdout",
     "output_type": "stream",
     "text": [
      "hi\n"
     ]
    },
    {
     "name": "stderr",
     "output_type": "stream",
     "text": [
      "127.0.0.1 - - [26/Mar/2025 15:47:37] \"GET /chatbot?userMessage=yes HTTP/1.1\" 200 -\n"
     ]
    },
    {
     "name": "stdout",
     "output_type": "stream",
     "text": [
      "yes\n",
      "nextquestion:Please provide your CustomerId\n"
     ]
    },
    {
     "name": "stderr",
     "output_type": "stream",
     "text": [
      "127.0.0.1 - - [26/Mar/2025 15:47:42] \"GET /chatbot?userMessage=100016 HTTP/1.1\" 200 -\n"
     ]
    },
    {
     "name": "stdout",
     "output_type": "stream",
     "text": [
      "100016\n",
      "nextquestion:Do you have investment plans? (yes/no)\n"
     ]
    },
    {
     "name": "stderr",
     "output_type": "stream",
     "text": [
      "127.0.0.1 - - [26/Mar/2025 15:47:46] \"GET /chatbot?userMessage=yes HTTP/1.1\" 200 -\n"
     ]
    },
    {
     "name": "stdout",
     "output_type": "stream",
     "text": [
      "yes\n",
      "nextquestion:How much you want to invest?\n"
     ]
    },
    {
     "name": "stderr",
     "output_type": "stream",
     "text": [
      "127.0.0.1 - - [26/Mar/2025 15:47:56] \"GET /chatbot?userMessage=10000 HTTP/1.1\" 200 -\n"
     ]
    },
    {
     "name": "stdout",
     "output_type": "stream",
     "text": [
      "10000\n",
      "nextquestion:Tenure?\n"
     ]
    },
    {
     "name": "stderr",
     "output_type": "stream",
     "text": [
      "127.0.0.1 - - [26/Mar/2025 15:47:59] \"GET /chatbot?userMessage=2 HTTP/1.1\" 200 -\n"
     ]
    },
    {
     "name": "stdout",
     "output_type": "stream",
     "text": [
      "2\n",
      "nextquestion:Expected Returns (in percentage)?\n"
     ]
    },
    {
     "name": "stderr",
     "output_type": "stream",
     "text": [
      "[2025-03-26 15:48:02,219] ERROR in app: Exception on /chatbot [GET]\n",
      "Traceback (most recent call last):\n",
      "  File \"d:\\anaconda\\envs\\myenvironment\\Lib\\site-packages\\flask\\app.py\", line 1473, in wsgi_app\n",
      "    response = self.full_dispatch_request()\n",
      "               ^^^^^^^^^^^^^^^^^^^^^^^^^^^^\n",
      "  File \"d:\\anaconda\\envs\\myenvironment\\Lib\\site-packages\\flask\\app.py\", line 882, in full_dispatch_request\n",
      "    rv = self.handle_user_exception(e)\n",
      "         ^^^^^^^^^^^^^^^^^^^^^^^^^^^^^\n",
      "  File \"d:\\anaconda\\envs\\myenvironment\\Lib\\site-packages\\flask\\app.py\", line 880, in full_dispatch_request\n",
      "    rv = self.dispatch_request()\n",
      "         ^^^^^^^^^^^^^^^^^^^^^^^\n",
      "  File \"d:\\anaconda\\envs\\myenvironment\\Lib\\site-packages\\flask\\app.py\", line 865, in dispatch_request\n",
      "    return self.ensure_sync(self.view_functions[rule.endpoint])(**view_args)  # type: ignore[no-any-return]\n",
      "           ^^^^^^^^^^^^^^^^^^^^^^^^^^^^^^^^^^^^^^^^^^^^^^^^^^^^^^^^^^^^^^^^^\n",
      "  File \"C:\\Users\\Admin\\AppData\\Local\\Temp\\ipykernel_11324\\3920657687.py\", line 38, in chatBotInteration\n",
      "    return get_response(request.args.get(\"userMessage\"))\n",
      "           ^^^^^^^^^^^^^^^^^^^^^^^^^^^^^^^^^^^^^^^^^^^^^\n",
      "  File \"c:\\Users\\Admin\\aiml_work\\Hackathon2025\\gitrepo2\\aidhp-operation-ai\\code\\src\\webapp\\recommondationSystemChatbot.py\", line 72, in get_response\n",
      "    return getRecommendedStocksAndAssets()\n",
      "           ^^^^^^^^^^^^^^^^^^^^^^^^^^^^^^^\n",
      "  File \"c:\\Users\\Admin\\aiml_work\\Hackathon2025\\gitrepo2\\aidhp-operation-ai\\code\\src\\webapp\\recommondationSystemChatbot.py\", line 23, in getRecommendedStocksAndAssets\n",
      "    risk_score = predict_risk(customerDataRecord)\n",
      "                 ^^^^^^^^^^^^^^^^^^^^^^^^^^^^^^^^\n",
      "  File \"c:\\Users\\Admin\\aiml_work\\Hackathon2025\\gitrepo2\\aidhp-operation-ai\\code\\src\\webapp\\riskScoreCalculator.py\", line 49, in predict_risk\n",
      "    #input_data = pd.DataFrame(data, 0)\n",
      "                 ^^^^^^^^^^^^^^^^^^^^^\n",
      "  File \"d:\\anaconda\\envs\\myenvironment\\Lib\\site-packages\\pandas\\core\\frame.py\", line 767, in __init__\n",
      "    mgr = dict_to_mgr(data, index, columns, dtype=dtype, copy=copy, typ=manager)\n",
      "          ^^^^^^^^^^^^^^^^^^^^^^^^^^^^^^^^^^^^^^^^^^^^^^^^^^^^^^^^^^^^^^^^^^^^^^\n",
      "  File \"d:\\anaconda\\envs\\myenvironment\\Lib\\site-packages\\pandas\\core\\internals\\construction.py\", line 503, in dict_to_mgr\n",
      "    return arrays_to_mgr(arrays, columns, index, dtype=dtype, typ=typ, consolidate=copy)\n",
      "           ^^^^^^^^^^^^^^^^^^^^^^^^^^^^^^^^^^^^^^^^^^^^^^^^^^^^^^^^^^^^^^^^^^^^^^^^^^^^^\n",
      "  File \"d:\\anaconda\\envs\\myenvironment\\Lib\\site-packages\\pandas\\core\\internals\\construction.py\", line 116, in arrays_to_mgr\n",
      "    index = ensure_index(index)\n",
      "            ^^^^^^^^^^^^^^^^^^^\n",
      "  File \"d:\\anaconda\\envs\\myenvironment\\Lib\\site-packages\\pandas\\core\\indexes\\base.py\", line 7649, in ensure_index\n",
      "    return Index(index_like, copy=copy)\n",
      "           ^^^^^^^^^^^^^^^^^^^^^^^^^^^^\n",
      "  File \"d:\\anaconda\\envs\\myenvironment\\Lib\\site-packages\\pandas\\core\\indexes\\base.py\", line 526, in __new__\n",
      "    raise cls._raise_scalar_data_error(data)\n",
      "          ^^^^^^^^^^^^^^^^^^^^^^^^^^^^^^^^^^\n",
      "  File \"d:\\anaconda\\envs\\myenvironment\\Lib\\site-packages\\pandas\\core\\indexes\\base.py\", line 5289, in _raise_scalar_data_error\n",
      "    raise TypeError(\n",
      "TypeError: Index(...) must be called with a collection of some kind, 0 was passed\n",
      "127.0.0.1 - - [26/Mar/2025 15:48:02] \"GET /chatbot?userMessage=12 HTTP/1.1\" 500 -\n"
     ]
    },
    {
     "name": "stdout",
     "output_type": "stream",
     "text": [
      "12\n",
      "    Customer_ID         Name  Age Gender Region  Income Existing_Loans  \\\n",
      "16       100016  Customer_16   53   Male  Rural   37401            Yes   \n",
      "\n",
      "    Loan_Amount  Credit_Card_Debt  Savings  Investments  Credit_Score  \\\n",
      "16       399051             30775    67920       171825           713   \n",
      "\n",
      "   Employment_Status  Risk_Score  \n",
      "16     Self-employed       91.23  \n"
     ]
    }
   ],
   "source": [
    "from flask import Flask, request, render_template, redirect\n",
    "from recommondationSystemChatbot import *\n",
    "\n",
    "\n",
    "app = Flask(__name__)\n",
    "@app.route('/')\n",
    "def welcome():\n",
    "    return render_template('recommendation-chatbot.html')\n",
    "\n",
    "@app.route('/addNewCustomer', methods=['POST'])\n",
    "def newCustomer():\n",
    "    print(request.form.get(\"customerID\"))\n",
    "    newCustomer:any={}\n",
    "    newCustomer['Age'] = request.form.get(\"age\")\n",
    "    newCustomer['Name']  = request.form.get(\"name\")\n",
    "    newCustomer['Customer_ID']  = request.form.get(\"customerID\")\n",
    "    newCustomer['Gender']  = request.form.get(\"gender\")\n",
    "    newCustomer['Region']  = request.form.get(\"region\")\n",
    "    newCustomer['Income']  = request.form.get(\"income\")\n",
    "    newCustomer['Existing_Loans']  = request.form.get(\"Existing_Loans\")\n",
    "    newCustomer['Loan_Amount']  = request.form.get(\"Loan_Amount\")\n",
    "    newCustomer['Credit_Card_Debt']  = request.form.get(\"Credit_Card_Debt\")\n",
    "    newCustomer['Savings']  = request.form.get(\"Savings\")\n",
    "    newCustomer['Investments']  = request.form.get(\"Investments\")\n",
    "    newCustomer['Credit_Score']  = request.form.get(\"Credit_Score\")\n",
    "    newCustomer['Employment_Status']  = request.form.get(\"Employment_Status\")\n",
    "    addNewCustomer(newCustomer)\n",
    "    return \"Customer Added\"\n",
    "\n",
    "\n",
    "@app.route('/newCustomer')\n",
    "def newcustomerForm():\n",
    "    return render_template('customer-ui.html')\n",
    "\n",
    "@app.route('/chatbot')\n",
    "def chatBotInteration():\n",
    "    print(request.args.get(\"userMessage\"))\n",
    "    return get_response(request.args.get(\"userMessage\"))\n",
    "\n",
    "if __name__ == '__main__':\n",
    "     app.run()"
   ]
  },
  {
   "cell_type": "code",
   "execution_count": null,
   "id": "82f3c458-244e-47e1-81c6-8122765d7c54",
   "metadata": {},
   "outputs": [],
   "source": [
    "# !pip install -U scikit-learn==1.3.2"
   ]
  },
  {
   "cell_type": "code",
   "execution_count": null,
   "id": "3cd82019-7a3d-4b3e-886c-792acefbbd10",
   "metadata": {},
   "outputs": [],
   "source": []
  }
 ],
 "metadata": {
  "kernelspec": {
   "display_name": "myenvironment",
   "language": "python",
   "name": "python3"
  },
  "language_info": {
   "codemirror_mode": {
    "name": "ipython",
    "version": 3
   },
   "file_extension": ".py",
   "mimetype": "text/x-python",
   "name": "python",
   "nbconvert_exporter": "python",
   "pygments_lexer": "ipython3",
   "version": "3.12.3"
  }
 },
 "nbformat": 4,
 "nbformat_minor": 5
}
