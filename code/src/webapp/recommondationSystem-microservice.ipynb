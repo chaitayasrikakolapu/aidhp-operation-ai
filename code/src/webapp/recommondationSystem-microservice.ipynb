{
 "cells": [
  {
   "cell_type": "code",
   "execution_count": null,
   "id": "96612ce3-0164-4a3d-a8cd-881d3afb27de",
   "metadata": {},
   "outputs": [],
   "source": [
    "#pip install Flask\n",
    "#!pip install ipynb"
   ]
  },
  {
   "cell_type": "code",
   "execution_count": null,
   "id": "ca0f5a96-9466-4496-8e3c-872a519f7d0b",
   "metadata": {},
   "outputs": [
    {
     "name": "stdout",
     "output_type": "stream",
     "text": [
      " * Serving Flask app '__main__'\n",
      " * Debug mode: off\n"
     ]
    },
    {
     "name": "stderr",
     "output_type": "stream",
     "text": [
      "WARNING: This is a development server. Do not use it in a production deployment. Use a production WSGI server instead.\n",
      " * Running on http://127.0.0.1:5000\n",
      "Press CTRL+C to quit\n",
      "127.0.0.1 - - [26/Mar/2025 15:24:25] \"GET / HTTP/1.1\" 200 -\n",
      "127.0.0.1 - - [26/Mar/2025 15:24:29] \"GET /chatbot?userMessage=hi HTTP/1.1\" 200 -\n"
     ]
    },
    {
     "name": "stdout",
     "output_type": "stream",
     "text": [
      "hi\n"
     ]
    },
    {
     "name": "stderr",
     "output_type": "stream",
     "text": [
      "127.0.0.1 - - [26/Mar/2025 15:24:32] \"GET /chatbot?userMessage=yes HTTP/1.1\" 200 -\n"
     ]
    },
    {
     "name": "stdout",
     "output_type": "stream",
     "text": [
      "yes\n",
      "nextquestion:Please provide your CustomerId\n"
     ]
    },
    {
     "name": "stderr",
     "output_type": "stream",
     "text": [
      "127.0.0.1 - - [26/Mar/2025 15:24:38] \"GET /chatbot?userMessage=100016 HTTP/1.1\" 200 -\n"
     ]
    },
    {
     "name": "stdout",
     "output_type": "stream",
     "text": [
      "100016\n",
      "nextquestion:Do you have investment plans? (yes/no)\n"
     ]
    },
    {
     "name": "stderr",
     "output_type": "stream",
     "text": [
      "127.0.0.1 - - [26/Mar/2025 15:24:41] \"GET /chatbot?userMessage=yes HTTP/1.1\" 200 -\n"
     ]
    },
    {
     "name": "stdout",
     "output_type": "stream",
     "text": [
      "yes\n",
      "nextquestion:How much you want to invest?\n"
     ]
    },
    {
     "name": "stderr",
     "output_type": "stream",
     "text": [
      "127.0.0.1 - - [26/Mar/2025 15:24:46] \"GET /chatbot?userMessage=10000 HTTP/1.1\" 200 -\n"
     ]
    },
    {
     "name": "stdout",
     "output_type": "stream",
     "text": [
      "10000\n",
      "nextquestion:Tenure?\n"
     ]
    },
    {
     "name": "stderr",
     "output_type": "stream",
     "text": [
      "127.0.0.1 - - [26/Mar/2025 15:24:48] \"GET /chatbot?userMessage=1 HTTP/1.1\" 200 -\n"
     ]
    },
    {
     "name": "stdout",
     "output_type": "stream",
     "text": [
      "1\n",
      "nextquestion:Expected Returns (in percentage)?\n"
     ]
    },
    {
     "name": "stderr",
     "output_type": "stream",
     "text": [
      "[2025-03-26 15:24:51,138] ERROR in app: Exception on /chatbot [GET]\n",
      "Traceback (most recent call last):\n",
      "  File \"d:\\anaconda\\envs\\myenvironment\\Lib\\site-packages\\flask\\app.py\", line 1473, in wsgi_app\n",
      "    response = self.full_dispatch_request()\n",
      "               ^^^^^^^^^^^^^^^^^^^^^^^^^^^^\n",
      "  File \"d:\\anaconda\\envs\\myenvironment\\Lib\\site-packages\\flask\\app.py\", line 882, in full_dispatch_request\n",
      "    rv = self.handle_user_exception(e)\n",
      "         ^^^^^^^^^^^^^^^^^^^^^^^^^^^^^\n",
      "  File \"d:\\anaconda\\envs\\myenvironment\\Lib\\site-packages\\flask\\app.py\", line 880, in full_dispatch_request\n",
      "    rv = self.dispatch_request()\n",
      "         ^^^^^^^^^^^^^^^^^^^^^^^\n",
      "  File \"d:\\anaconda\\envs\\myenvironment\\Lib\\site-packages\\flask\\app.py\", line 865, in dispatch_request\n",
      "    return self.ensure_sync(self.view_functions[rule.endpoint])(**view_args)  # type: ignore[no-any-return]\n",
      "           ^^^^^^^^^^^^^^^^^^^^^^^^^^^^^^^^^^^^^^^^^^^^^^^^^^^^^^^^^^^^^^^^^\n",
      "  File \"C:\\Users\\Admin\\AppData\\Local\\Temp\\ipykernel_5796\\3920657687.py\", line 38, in chatBotInteration\n",
      "    return get_response(request.args.get(\"userMessage\"))\n",
      "           ^^^^^^^^^^^^^^^^^^^^^^^^^^^^^^^^^^^^^^^^^^^^^\n",
      "  File \"c:\\Users\\Admin\\aiml_work\\Hackathon2025\\gitrepo2\\aidhp-operation-ai\\code\\src\\webapp\\recommondationSystemChatbot.py\", line 72, in get_response\n",
      "    return getRecommendedStocksAndAssets()\n",
      "           ^^^^^^^^^^^^^^^^^^^^^^^^^^^^^^^\n",
      "  File \"c:\\Users\\Admin\\aiml_work\\Hackathon2025\\gitrepo2\\aidhp-operation-ai\\code\\src\\webapp\\recommondationSystemChatbot.py\", line 23, in getRecommendedStocksAndAssets\n",
      "    risk_score = predict_risk(customerDataRecord)\n",
      "                 ^^^^^^^^^^^^^^^^^^^^^^^^^^^^^^^^\n",
      "  File \"c:\\Users\\Admin\\aiml_work\\Hackathon2025\\gitrepo2\\aidhp-operation-ai\\code\\src\\webapp\\riskScoreCalculator.py\", line 49, in predict_risk\n",
      "    risk_score = model.predict(input_data)[0]\n",
      "                 ^^^^^^^^^^^^^^^^^^^\n",
      "  File \"d:\\anaconda\\envs\\myenvironment\\Lib\\site-packages\\sklearn\\pipeline.py\", line 514, in predict\n",
      "    Xt = transform.transform(Xt)\n",
      "         ^^^^^^^^^^^^^^^^^^^^^^^\n",
      "  File \"d:\\anaconda\\envs\\myenvironment\\Lib\\site-packages\\sklearn\\utils\\_set_output.py\", line 157, in wrapped\n",
      "    data_to_wrap = f(self, X, *args, **kwargs)\n",
      "                   ^^^^^^^^^^^^^^^^^^^^^^^^^^^\n",
      "  File \"d:\\anaconda\\envs\\myenvironment\\Lib\\site-packages\\sklearn\\compose\\_column_transformer.py\", line 798, in transform\n",
      "    X = _check_X(X)\n",
      "        ^^^^^^^^^^^\n",
      "  File \"d:\\anaconda\\envs\\myenvironment\\Lib\\site-packages\\sklearn\\compose\\_column_transformer.py\", line 932, in _check_X\n",
      "    return check_array(X, force_all_finite=\"allow-nan\", dtype=object)\n",
      "           ^^^^^^^^^^^^^^^^^^^^^^^^^^^^^^^^^^^^^^^^^^^^^^^^^^^^^^^^^^\n",
      "  File \"d:\\anaconda\\envs\\myenvironment\\Lib\\site-packages\\sklearn\\utils\\validation.py\", line 930, in check_array\n",
      "    raise ValueError(\n",
      "ValueError: Expected 2D array, got scalar array instead:\n",
      "array={'Age': 16    53\n",
      "Name: Age, dtype: object, 'Gender': 16    Male\n",
      "Name: Gender, dtype: object, 'Region': 16    Rural\n",
      "Name: Region, dtype: object, 'Income': 16    37401\n",
      "Name: Income, dtype: object, 'Existing_Loans': 16    Yes\n",
      "Name: Existing_Loans, dtype: object, 'Loan_Amount': 16    399051\n",
      "Name: Loan_Amount, dtype: object, 'Credit_Card_Debt': 16    30775\n",
      "Name: Credit_Card_Debt, dtype: object, 'Savings': 16    67920\n",
      "Name: Savings, dtype: object, 'Investments': 16    171825\n",
      "Name: Investments, dtype: object, 'Credit_Score': 16    713\n",
      "Name: Credit_Score, dtype: object, 'Employment_Status': 16    Self-employed\n",
      "Name: Employment_Status, dtype: object}.\n",
      "Reshape your data either using array.reshape(-1, 1) if your data has a single feature or array.reshape(1, -1) if it contains a single sample.\n",
      "127.0.0.1 - - [26/Mar/2025 15:24:51] \"GET /chatbot?userMessage=12 HTTP/1.1\" 500 -\n"
     ]
    },
    {
     "name": "stdout",
     "output_type": "stream",
     "text": [
      "12\n",
      "   Customer_ID         Name Age Gender Region Income Existing_Loans  \\\n",
      "16      100016  Customer_16  53   Male  Rural  37401            Yes   \n",
      "\n",
      "   Loan_Amount Credit_Card_Debt Savings Investments Credit_Score  \\\n",
      "16      399051            30775   67920      171825          713   \n",
      "\n",
      "   Employment_Status  Risk_Score  \n",
      "16     Self-employed       91.23  \n"
     ]
    }
   ],
   "source": [
    "from flask import Flask, request, render_template, redirect\n",
    "from recommondationSystemChatbot import *\n",
    "\n",
    "\n",
    "app = Flask(__name__)\n",
    "@app.route('/')\n",
    "def welcome():\n",
    "    return render_template('recommendation-chatbot.html')\n",
    "\n",
    "@app.route('/addNewCustomer', methods=['POST'])\n",
    "def newCustomer():\n",
    "    print(request.form.get(\"customerID\"))\n",
    "    newCustomer:any={}\n",
    "    newCustomer['Age'] = request.form.get(\"age\")\n",
    "    newCustomer['Name']  = request.form.get(\"name\")\n",
    "    newCustomer['Customer_ID']  = request.form.get(\"customerID\")\n",
    "    newCustomer['Gender']  = request.form.get(\"gender\")\n",
    "    newCustomer['Region']  = request.form.get(\"region\")\n",
    "    newCustomer['Income']  = request.form.get(\"income\")\n",
    "    newCustomer['Existing_Loans']  = request.form.get(\"Existing_Loans\")\n",
    "    newCustomer['Loan_Amount']  = request.form.get(\"Loan_Amount\")\n",
    "    newCustomer['Credit_Card_Debt']  = request.form.get(\"Credit_Card_Debt\")\n",
    "    newCustomer['Savings']  = request.form.get(\"Savings\")\n",
    "    newCustomer['Investments']  = request.form.get(\"Investments\")\n",
    "    newCustomer['Credit_Score']  = request.form.get(\"Credit_Score\")\n",
    "    newCustomer['Employment_Status']  = request.form.get(\"Employment_Status\")\n",
    "    addNewCustomer(newCustomer)\n",
    "    return \"Customer Added\"\n",
    "\n",
    "\n",
    "@app.route('/newCustomer')\n",
    "def newcustomerForm():\n",
    "    return render_template('customer-ui.html')\n",
    "\n",
    "@app.route('/chatbot')\n",
    "def chatBotInteration():\n",
    "    print(request.args.get(\"userMessage\"))\n",
    "    return get_response(request.args.get(\"userMessage\"))\n",
    "\n",
    "if __name__ == '__main__':\n",
    "     app.run()"
   ]
  },
  {
   "cell_type": "code",
   "execution_count": null,
   "id": "82f3c458-244e-47e1-81c6-8122765d7c54",
   "metadata": {},
   "outputs": [],
   "source": [
    "# !pip install -U scikit-learn==1.3.2"
   ]
  },
  {
   "cell_type": "code",
   "execution_count": null,
   "id": "3cd82019-7a3d-4b3e-886c-792acefbbd10",
   "metadata": {},
   "outputs": [],
   "source": []
  }
 ],
 "metadata": {
  "kernelspec": {
   "display_name": "myenvironment",
   "language": "python",
   "name": "python3"
  },
  "language_info": {
   "codemirror_mode": {
    "name": "ipython",
    "version": 3
   },
   "file_extension": ".py",
   "mimetype": "text/x-python",
   "name": "python",
   "nbconvert_exporter": "python",
   "pygments_lexer": "ipython3",
   "version": "3.12.3"
  }
 },
 "nbformat": 4,
 "nbformat_minor": 5
}
