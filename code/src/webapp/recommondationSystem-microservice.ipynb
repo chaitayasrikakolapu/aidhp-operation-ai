{
 "cells": [
  {
   "cell_type": "code",
   "execution_count": 23,
   "id": "96612ce3-0164-4a3d-a8cd-881d3afb27de",
   "metadata": {},
   "outputs": [
    {
     "name": "stdout",
     "output_type": "stream",
     "text": [
      "Collecting ipynb\n",
      "  Downloading ipynb-0.5.1-py3-none-any.whl.metadata (303 bytes)\n",
      "Downloading ipynb-0.5.1-py3-none-any.whl (6.9 kB)\n",
      "Installing collected packages: ipynb\n",
      "Successfully installed ipynb-0.5.1\n"
     ]
    }
   ],
   "source": [
    "#pip install Flask\n",
    "#!pip install ipynb"
   ]
  },
  {
   "cell_type": "code",
   "execution_count": null,
   "id": "ca0f5a96-9466-4496-8e3c-872a519f7d0b",
   "metadata": {},
   "outputs": [
    {
     "name": "stdout",
     "output_type": "stream",
     "text": [
      " * Serving Flask app '__main__'\n",
      " * Debug mode: off\n"
     ]
    },
    {
     "name": "stderr",
     "output_type": "stream",
     "text": [
      "WARNING: This is a development server. Do not use it in a production deployment. Use a production WSGI server instead.\n",
      " * Running on http://127.0.0.1:5000\n",
      "Press CTRL+C to quit\n",
      "127.0.0.1 - - [23/Mar/2025 17:59:18] \"GET / HTTP/1.1\" 200 -\n",
      "127.0.0.1 - - [23/Mar/2025 18:04:05] \"GET /chatbot?userMessage=Hi HTTP/1.1\" 200 -\n"
     ]
    },
    {
     "name": "stdout",
     "output_type": "stream",
     "text": [
      "Hi\n"
     ]
    },
    {
     "name": "stderr",
     "output_type": "stream",
     "text": [
      "127.0.0.1 - - [23/Mar/2025 18:04:09] \"GET /chatbot?userMessage=12345 HTTP/1.1\" 200 -\n"
     ]
    },
    {
     "name": "stdout",
     "output_type": "stream",
     "text": [
      "12345\n",
      "nextquestion:Do you have investment plans? (yes/no)\n"
     ]
    },
    {
     "name": "stderr",
     "output_type": "stream",
     "text": [
      "127.0.0.1 - - [23/Mar/2025 18:04:16] \"GET /chatbot?userMessage=yes HTTP/1.1\" 200 -\n"
     ]
    },
    {
     "name": "stdout",
     "output_type": "stream",
     "text": [
      "yes\n",
      "nextquestion:How much you want to invest?\n"
     ]
    },
    {
     "name": "stderr",
     "output_type": "stream",
     "text": [
      "127.0.0.1 - - [23/Mar/2025 18:04:22] \"GET /chatbot?userMessage=1000 HTTP/1.1\" 200 -\n"
     ]
    },
    {
     "name": "stdout",
     "output_type": "stream",
     "text": [
      "1000\n",
      "nextquestion:Tenure?\n"
     ]
    },
    {
     "name": "stderr",
     "output_type": "stream",
     "text": [
      "127.0.0.1 - - [23/Mar/2025 18:04:38] \"GET /chatbot?userMessage=2 HTTP/1.1\" 200 -\n"
     ]
    },
    {
     "name": "stdout",
     "output_type": "stream",
     "text": [
      "2\n",
      "nextquestion:Expected Returns (in percentage)?\n"
     ]
    },
    {
     "name": "stderr",
     "output_type": "stream",
     "text": [
      "127.0.0.1 - - [23/Mar/2025 18:04:43] \"GET /chatbot?userMessage=20 HTTP/1.1\" 200 -\n"
     ]
    },
    {
     "name": "stdout",
     "output_type": "stream",
     "text": [
      "20\n"
     ]
    }
   ],
   "source": [
    "from flask import Flask, request, render_template, redirect\n",
    "from recommondationSystemChatbot import *\n",
    "\n",
    "app = Flask(__name__)\n",
    "@app.route('/')\n",
    "def hello_world():\n",
    "    return render_template('recommendation-chatbot.html')\n",
    "\n",
    "@app.route('/predict')\n",
    "def fetchRecommendations():\n",
    "    \n",
    "    print(request.args.get(\"customerID\"))\n",
    "    print(request.args.get(\"invAmt\"))\n",
    "    print(request.args.get(\"tenure\"))\n",
    "    print(request.args.get(\"returnsPersent\"))\n",
    "    customerID = request.args.get(\"customerID\")\n",
    "    invAmt = request.args.get(\"invAmt\")\n",
    "    tenure = request.args.get(\"tenure\")\n",
    "    returnsPersent = request.args.get(\"returnsPersent\")\n",
    "    \n",
    "    riskScore = getCustomerPortFolioScore(customerID)\n",
    "    print(riskScore)\n",
    "\n",
    "    recommendations = getRecommendedStocksAndAssets(riskScore,customerID,invAmt, tenure, returnsPersent)\n",
    "    \n",
    "    return recommendations\n",
    "\n",
    "def getCustomerPortFolioScore(customerID):\n",
    "    print(\"customerID:\"+customerID)\n",
    "    return 1;\n",
    "\n",
    "def getRecommendedStocksAndAssets(customerScore, customerID, invAmt, tenure, returnsPersent):\n",
    "    print(\"customerScore:\"+str(customerScore))\n",
    "    print(\" customerID: \"+customerID)\n",
    "    print(\" invAmt: \"+invAmt)\n",
    "    print(\" tenure: \"+tenure)\n",
    "    print(\" returnsPersent: \"+returnsPersent)\n",
    "    \n",
    "    return \"1. SBI Small Cap (20% returns) <br> 2.ICICI Prudential (22% returns)\";\n",
    "\n",
    "@app.route('/chatbot')\n",
    "def chatBotInteration():\n",
    "    print(request.args.get(\"userMessage\"))\n",
    "    return get_response(request.args.get(\"userMessage\"))\n",
    "\n",
    "if __name__ == '__main__':\n",
    "     app.run()"
   ]
  },
  {
   "cell_type": "code",
   "execution_count": null,
   "id": "82f3c458-244e-47e1-81c6-8122765d7c54",
   "metadata": {},
   "outputs": [],
   "source": []
  },
  {
   "cell_type": "code",
   "execution_count": null,
   "id": "3cd82019-7a3d-4b3e-886c-792acefbbd10",
   "metadata": {},
   "outputs": [],
   "source": []
  }
 ],
 "metadata": {
  "kernelspec": {
   "display_name": "myenvironment",
   "language": "python",
   "name": "python3"
  },
  "language_info": {
   "codemirror_mode": {
    "name": "ipython",
    "version": 3
   },
   "file_extension": ".py",
   "mimetype": "text/x-python",
   "name": "python",
   "nbconvert_exporter": "python",
   "pygments_lexer": "ipython3",
   "version": "3.12.3"
  }
 },
 "nbformat": 4,
 "nbformat_minor": 5
}
